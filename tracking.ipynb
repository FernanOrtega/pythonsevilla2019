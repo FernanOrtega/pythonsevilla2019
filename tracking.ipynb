{
 "cells": [
  {
   "cell_type": "markdown",
   "metadata": {},
   "source": [
    "# Introducción a MLFlow y Databricks: acelerando el Machine Learning LifeCycle - Python Sevilla 2019"
   ]
  },
  {
   "cell_type": "markdown",
   "metadata": {
    "pycharm": {
     "name": "#%% md\n"
    }
   },
   "source": [
    "## MLFlow Tracking"
   ]
  },
  {
   "cell_type": "markdown",
   "metadata": {},
   "source": [
    "### Basic example"
   ]
  },
  {
   "cell_type": "code",
   "execution_count": 1,
   "metadata": {
    "pycharm": {
     "is_executing": false,
     "name": "#%%\n"
    }
   },
   "outputs": [],
   "source": [
    "import mlflow"
   ]
  },
  {
   "cell_type": "code",
   "execution_count": 2,
   "metadata": {
    "pycharm": {
     "is_executing": false,
     "name": "#%%\n"
    }
   },
   "outputs": [],
   "source": [
    "tracking_uri = \"http://localhost:5000\"\n",
    "mlflow.set_tracking_uri(tracking_uri)"
   ]
  },
  {
   "cell_type": "code",
   "execution_count": 3,
   "metadata": {},
   "outputs": [],
   "source": [
    "# test_experiment = mlflow.create_experiment('test_1')\n",
    "mlflow.set_experiment('test_1')"
   ]
  },
  {
   "cell_type": "code",
   "execution_count": 4,
   "metadata": {
    "pycharm": {
     "is_executing": false,
     "name": "#%%\n"
    }
   },
   "outputs": [],
   "source": [
    "run =  mlflow.start_run()\n",
    "# with mlflow.start_run() as run: -> another alternative"
   ]
  },
  {
   "cell_type": "code",
   "execution_count": 5,
   "metadata": {
    "pycharm": {
     "is_executing": false,
     "name": "#%%\n"
    }
   },
   "outputs": [],
   "source": [
    "mlflow.log_param('param1', 1)\n",
    "mlflow.log_metric('metric1', 2)"
   ]
  },
  {
   "cell_type": "code",
   "execution_count": 6,
   "metadata": {
    "pycharm": {
     "is_executing": false,
     "name": "#%%\n"
    }
   },
   "outputs": [],
   "source": [
    "mlflow.log_param('param1', 1)\n",
    "mlflow.log_metric('metric1', 2)"
   ]
  },
  {
   "cell_type": "code",
   "execution_count": 7,
   "metadata": {
    "pycharm": {
     "is_executing": false,
     "name": "#%%\n"
    }
   },
   "outputs": [],
   "source": [
    "mlflow.end_run()"
   ]
  },
  {
   "cell_type": "markdown",
   "metadata": {
    "pycharm": {
     "name": "#%%\n"
    }
   },
   "source": [
    "### Breast cancer: Scikit-learn"
   ]
  },
  {
   "cell_type": "code",
   "execution_count": 8,
   "metadata": {},
   "outputs": [],
   "source": [
    "# experiment = mlflow.create_experiment('breast_cancer')"
   ]
  },
  {
   "cell_type": "code",
   "execution_count": 9,
   "metadata": {},
   "outputs": [
    {
     "name": "stdout",
     "output_type": "stream",
     "text": [
      "INFO: 'breast_cancer' does not exist. Creating a new experiment\n"
     ]
    }
   ],
   "source": [
    "mlflow.set_experiment('breast_cancer')"
   ]
  },
  {
   "cell_type": "code",
   "execution_count": 10,
   "metadata": {},
   "outputs": [],
   "source": [
    "import numpy as np\n",
    "import pandas\n",
    "from sklearn.datasets import load_breast_cancer\n",
    "from sklearn.model_selection import train_test_split\n",
    "import warnings\n",
    "warnings.filterwarnings('ignore')"
   ]
  },
  {
   "cell_type": "code",
   "execution_count": 11,
   "metadata": {},
   "outputs": [
    {
     "data": {
      "text/plain": [
       "dict_keys(['data', 'target', 'target_names', 'DESCR', 'feature_names', 'filename'])"
      ]
     },
     "execution_count": 11,
     "metadata": {},
     "output_type": "execute_result"
    }
   ],
   "source": [
    "cancer = load_breast_cancer()\n",
    "cancer.keys()"
   ]
  },
  {
   "cell_type": "code",
   "execution_count": 26,
   "metadata": {},
   "outputs": [
    {
     "data": {
      "text/plain": [
       "sklearn.utils.Bunch"
      ]
     },
     "execution_count": 26,
     "metadata": {},
     "output_type": "execute_result"
    }
   ],
   "source": [
    "type(cancer)"
   ]
  },
  {
   "cell_type": "code",
   "execution_count": 12,
   "metadata": {},
   "outputs": [
    {
     "name": "stdout",
     "output_type": "stream",
     "text": [
      "X: (569, 30), y: (569,)\n"
     ]
    }
   ],
   "source": [
    "X = np.array(cancer.data)\n",
    "y = np.array(cancer.target)\n",
    "print(f'X: {X.shape}, y: {y.shape}')"
   ]
  },
  {
   "cell_type": "code",
   "execution_count": 13,
   "metadata": {},
   "outputs": [],
   "source": [
    "x_train, x_test, y_train, y_test = train_test_split(X, y, train_size=426, test_size=143, random_state=0)"
   ]
  },
  {
   "cell_type": "code",
   "execution_count": 14,
   "metadata": {},
   "outputs": [],
   "source": [
    "#Feature Scaling\n",
    "from sklearn.preprocessing import StandardScaler\n",
    "sc = StandardScaler()\n",
    "x_train = sc.fit_transform(x_train)\n",
    "x_test = sc.transform(x_test)"
   ]
  },
  {
   "cell_type": "code",
   "execution_count": 15,
   "metadata": {},
   "outputs": [],
   "source": [
    "# Function to validate a model        \n",
    "def validate_model(model, x_test, y_test):    \n",
    "    y_pred = model.predict(x_test)\n",
    "    y_pred = (y_pred > 0.5)\n",
    "    from sklearn.metrics import confusion_matrix\n",
    "    tn, fp, fn, tp = confusion_matrix(y_test, y_pred).ravel()\n",
    "    precision = tp / (tp + fp)\n",
    "    recall = tp / (tp + fn)\n",
    "    accuracy = (tp + tn) / (tp + fp + tn + fn)\n",
    "    \n",
    "    return precision, recall, accuracy"
   ]
  },
  {
   "cell_type": "code",
   "execution_count": 16,
   "metadata": {},
   "outputs": [],
   "source": [
    "# Model 1: Logistic Regression\n",
    "def breast_cancer_lr(solver=\"lbfgs\", C=1.0):\n",
    "    from sklearn.linear_model import LogisticRegression\n",
    "    import mlflow.sklearn\n",
    "    with mlflow.start_run() as run:\n",
    "        lr = LogisticRegression(solver = solver, C = C)\n",
    "        mlflow.log_param(\"solver\", solver)\n",
    "        mlflow.log_param(\"C\", C)\n",
    "        mlflow.set_tag(\"model type\", \"sklearn - LogisticRegression\")\n",
    "        lr.fit(x_train, y_train)\n",
    "        precision, recall, accuracy = validate_model(lr, x_test, y_test)\n",
    "        mlflow.log_metric(\"precision\", precision)\n",
    "        mlflow.log_metric(\"recall\", recall)\n",
    "        mlflow.log_metric(\"accuracy\", accuracy)\n",
    "        mlflow.sklearn.log_model(lr, \"models\")\n",
    "        print(\"Model saved in run %s\" % mlflow.active_run().info.run_uuid)"
   ]
  },
  {
   "cell_type": "code",
   "execution_count": 17,
   "metadata": {},
   "outputs": [
    {
     "name": "stdout",
     "output_type": "stream",
     "text": [
      "Model saved in run 9bafba7ad7e8443098496ebb1ccaa885\n",
      "Model saved in run 58be448c055148b0a78c16b431c9785b\n",
      "Model saved in run 3d7f599649ae496294a5b8454a29013d\n"
     ]
    }
   ],
   "source": [
    "breast_cancer_lr()\n",
    "breast_cancer_lr(solver=\"liblinear\")\n",
    "breast_cancer_lr(solver=\"liblinear\", C=0.5)"
   ]
  },
  {
   "cell_type": "code",
   "execution_count": 18,
   "metadata": {},
   "outputs": [],
   "source": [
    "# Model 2: Random Forest\n",
    "def breast_cancer_rf(n_estimators=100, max_depth=2, criterion=\"gini\"):\n",
    "    from sklearn.ensemble import RandomForestClassifier\n",
    "    import mlflow.sklearn\n",
    "    with mlflow.start_run() as run:\n",
    "        clf = RandomForestClassifier(n_estimators=n_estimators, max_depth=max_depth, criterion=criterion)\n",
    "        mlflow.log_param(\"n_estimators\", n_estimators)\n",
    "        mlflow.log_param(\"max_depth\", max_depth)\n",
    "        mlflow.log_param(\"criterion\", criterion)\n",
    "        mlflow.set_tag(\"model type\", \"sklearn - RandomForest\")\n",
    "        clf.fit(x_train, y_train)\n",
    "        precision, recall, accuracy = validate_model(clf, x_test, y_test)\n",
    "        mlflow.log_metric(\"precision\", precision)\n",
    "        mlflow.log_metric(\"recall\", recall)\n",
    "        mlflow.log_metric(\"accuracy\", accuracy)\n",
    "        mlflow.sklearn.log_model(clf, \"models\")\n",
    "        print(\"Model saved in run %s\" % mlflow.active_run().info.run_uuid)"
   ]
  },
  {
   "cell_type": "code",
   "execution_count": 19,
   "metadata": {},
   "outputs": [
    {
     "name": "stdout",
     "output_type": "stream",
     "text": [
      "Model saved in run d86c6c4faa58461d9a7014596bfca5ff\n",
      "Model saved in run 8ad398b6f51d4e719be0f08ad5c1f808\n",
      "Model saved in run 8a72d22516034c5faf8d137f5d2b69e4\n"
     ]
    }
   ],
   "source": [
    "breast_cancer_rf()\n",
    "breast_cancer_rf(max_depth=5)\n",
    "breast_cancer_rf(n_estimators=500, criterion=\"entropy\")"
   ]
  },
  {
   "cell_type": "code",
   "execution_count": 24,
   "metadata": {},
   "outputs": [],
   "source": [
    "# Model 3: Keras\n",
    "from keras.callbacks import Callback\n",
    "class LossHistory(Callback):\n",
    "    def on_train_begin(self, logs={}):\n",
    "        self.losses = []\n",
    "\n",
    "    def on_epoch_end(self, epoch, logs={}):\n",
    "        loss = logs.get('loss')\n",
    "        acc = logs.get('accuracy')\n",
    "        mlflow.log_metric(\"loss\", loss, step=epoch)\n",
    "        mlflow.log_metric(\"val_accuracy\", acc, step=epoch)\n",
    "        precision, recall, accuracy = validate_model(self.model, x_test, y_test)        \n",
    "        mlflow.log_metric(\"precision\", precision, step=epoch)\n",
    "        mlflow.log_metric(\"recall\", recall, step=epoch)\n",
    "        mlflow.log_metric(\"accuracy\", accuracy, step=epoch)\n",
    "        self.losses.append(loss)\n",
    "    \n",
    "\n",
    "def breast_cancer_keras(optimizer='adam',dropout=0.00, nb_epoch=20):\n",
    "    import mlflow.keras\n",
    "    import keras\n",
    "    from keras.models import Sequential\n",
    "    from keras.layers import Dense, Dropout\n",
    "    with mlflow.start_run() as run:\n",
    "        mlflow.set_tag(\"model type\", \"keras - MLP\")\n",
    "        model = Sequential()\n",
    "        # Adding the input layer and the first hidden layer\n",
    "        model.add(Dense(output_dim=16, init='uniform', activation='relu', input_dim=30))\n",
    "        # Adding dropout to prevent overfitting\n",
    "        model.add(Dropout(p=dropout))\n",
    "        # Adding the second hidden layer\n",
    "        model.add(Dense(output_dim=16, init='uniform', activation='relu'))\n",
    "        # Adding dropout to prevent overfitting\n",
    "        model.add(Dropout(p=dropout))\n",
    "        # Adding the output layer\n",
    "        model.add(Dense(output_dim=1, init='uniform', activation='sigmoid'))\n",
    "        # Compiling the ANN\n",
    "        model.compile(optimizer='adam', loss='binary_crossentropy', metrics=['accuracy'])\n",
    "        history = LossHistory()\n",
    "        model.fit(x_train, y_train, batch_size=100, nb_epoch=nb_epoch, callbacks=[history])\n",
    "        mlflow.log_param(\"optimizer\", optimizer)\n",
    "        mlflow.log_param(\"dropout\", dropout)\n",
    "        mlflow.keras.log_model(model, \"models\")"
   ]
  },
  {
   "cell_type": "code",
   "execution_count": 25,
   "metadata": {},
   "outputs": [
    {
     "name": "stdout",
     "output_type": "stream",
     "text": [
      "Epoch 1/20\n",
      "426/426 [==============================] - 0s 562us/step - loss: 0.6926 - accuracy: 0.6761\n",
      "Epoch 2/20\n",
      "426/426 [==============================] - 0s 67us/step - loss: 0.6910 - accuracy: 0.6690\n",
      "Epoch 3/20\n",
      "426/426 [==============================] - 0s 35us/step - loss: 0.6885 - accuracy: 0.7582\n",
      "Epoch 4/20\n",
      "426/426 [==============================] - 0s 34us/step - loss: 0.6850 - accuracy: 0.8615\n",
      "Epoch 5/20\n",
      "426/426 [==============================] - 0s 42us/step - loss: 0.6793 - accuracy: 0.9061\n",
      "Epoch 6/20\n",
      "426/426 [==============================] - 0s 36us/step - loss: 0.6715 - accuracy: 0.9272\n",
      "Epoch 7/20\n",
      "426/426 [==============================] - 0s 33us/step - loss: 0.6600 - accuracy: 0.9366\n",
      "Epoch 8/20\n",
      "426/426 [==============================] - 0s 34us/step - loss: 0.6449 - accuracy: 0.9507\n",
      "Epoch 9/20\n",
      "426/426 [==============================] - 0s 33us/step - loss: 0.6246 - accuracy: 0.9531\n",
      "Epoch 10/20\n",
      "426/426 [==============================] - 0s 35us/step - loss: 0.5994 - accuracy: 0.9531\n",
      "Epoch 11/20\n",
      "426/426 [==============================] - 0s 40us/step - loss: 0.5693 - accuracy: 0.9577\n",
      "Epoch 12/20\n",
      "426/426 [==============================] - 0s 48us/step - loss: 0.5349 - accuracy: 0.9577\n",
      "Epoch 13/20\n",
      "426/426 [==============================] - 0s 76us/step - loss: 0.4984 - accuracy: 0.9577\n",
      "Epoch 14/20\n",
      "426/426 [==============================] - 0s 64us/step - loss: 0.4599 - accuracy: 0.9577\n",
      "Epoch 15/20\n",
      "426/426 [==============================] - 0s 91us/step - loss: 0.4216 - accuracy: 0.9648\n",
      "Epoch 16/20\n",
      "426/426 [==============================] - 0s 44us/step - loss: 0.3843 - accuracy: 0.9648\n",
      "Epoch 17/20\n",
      "426/426 [==============================] - 0s 57us/step - loss: 0.3487 - accuracy: 0.9648\n",
      "Epoch 18/20\n",
      "426/426 [==============================] - 0s 60us/step - loss: 0.3151 - accuracy: 0.9624\n",
      "Epoch 19/20\n",
      "426/426 [==============================] - 0s 63us/step - loss: 0.2848 - accuracy: 0.9624\n",
      "Epoch 20/20\n",
      "426/426 [==============================] - 0s 32us/step - loss: 0.2565 - accuracy: 0.9671\n"
     ]
    }
   ],
   "source": [
    "breast_cancer_keras()"
   ]
  },
  {
   "cell_type": "code",
   "execution_count": null,
   "metadata": {},
   "outputs": [],
   "source": [
    "breast_cancer_keras(nb_epoch=100)"
   ]
  },
  {
   "cell_type": "code",
   "execution_count": null,
   "metadata": {},
   "outputs": [],
   "source": [
    "breast_cancer_keras(dropout=0.25, nb_epoch=100)"
   ]
  },
  {
   "cell_type": "code",
   "execution_count": 35,
   "metadata": {},
   "outputs": [],
   "source": [
    "# Model 4: Custom model\n",
    "import mlflow.pyfunc\n",
    "from numpy import random\n",
    "class CustomClassifier(mlflow.pyfunc.PythonModel):\n",
    "\n",
    "    def predict(self, model_input):\n",
    "        return np.random.randint(2, size=len(model_input))"
   ]
  },
  {
   "cell_type": "code",
   "execution_count": 39,
   "metadata": {},
   "outputs": [],
   "source": [
    "from tempfile import NamedTemporaryFile\n",
    "def save_numpy_array(np_array):\n",
    "    outfile = NamedTemporaryFile()\n",
    "    np.save(outfile, np_array)\n",
    "    return outfile"
   ]
  },
  {
   "cell_type": "code",
   "execution_count": 41,
   "metadata": {},
   "outputs": [],
   "source": [
    "with mlflow.start_run() as run:\n",
    "    ccl = CustomClassifier()\n",
    "    precision, recall, accuracy = validate_model(ccl, x_test, y_test)\n",
    "    mlflow.set_tag(\"model type\", \"pyfunc - random\")\n",
    "    mlflow.set_tag(\"dataset_uri\", \"https://archive.ics.uci.edu/ml/datasets/Breast+Cancer+Wisconsin+(Diagnostic)\")\n",
    "    mlflow.log_metric(\"precision\", precision)\n",
    "    mlflow.log_metric(\"recall\", recall)\n",
    "    mlflow.log_metric(\"accuracy\", accuracy)\n",
    "    mlflow.log_metric(\"f1\", (2 * precision * recall / (precision + recall))) # new metric for this model\n",
    "    # Log custom model by means of pyfunc api\n",
    "    mlflow.pyfunc.log_model(\"models\", python_model=ccl)\n",
    "    # Log dataset and splits used to train/test\n",
    "    x_train_file = save_numpy_array(x_train)\n",
    "    x_test_file = save_numpy_array(x_test)\n",
    "    y_train_file = save_numpy_array(y_train)\n",
    "    y_test_file = save_numpy_array(y_test)\n",
    "    mlflow.log_artifact(x_train_file.name, \"dataset/x_train\")\n",
    "    mlflow.log_artifact(x_test_file.name, \"dataset/x_test\")\n",
    "    mlflow.log_artifact(y_train_file.name, \"dataset/y_train\")\n",
    "    mlflow.log_artifact(y_test_file.name, \"dataset/y_test\")"
   ]
  },
  {
   "cell_type": "code",
   "execution_count": null,
   "metadata": {},
   "outputs": [],
   "source": []
  }
 ],
 "metadata": {
  "kernelspec": {
   "display_name": "Python 3",
   "language": "python",
   "name": "python3"
  },
  "language_info": {
   "codemirror_mode": {
    "name": "ipython",
    "version": 3
   },
   "file_extension": ".py",
   "mimetype": "text/x-python",
   "name": "python",
   "nbconvert_exporter": "python",
   "pygments_lexer": "ipython3",
   "version": "3.7.5"
  },
  "pycharm": {
   "stem_cell": {
    "cell_type": "raw",
    "metadata": {
     "collapsed": false
    },
    "source": []
   }
  }
 },
 "nbformat": 4,
 "nbformat_minor": 1
}
