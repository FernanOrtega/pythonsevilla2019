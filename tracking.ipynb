{
 "cells": [
  {
   "cell_type": "markdown",
   "metadata": {},
   "source": [
    "# Introducción a MLFlow y Databricks: acelerando el Machine Learning LifeCycle - Python Sevilla 2019"
   ]
  },
  {
   "cell_type": "markdown",
   "metadata": {
    "pycharm": {
     "name": "#%% md\n"
    }
   },
   "source": [
    "## MLFlow Tracking"
   ]
  },
  {
   "cell_type": "markdown",
   "metadata": {},
   "source": [
    "### Basic example"
   ]
  },
  {
   "cell_type": "code",
   "execution_count": 1,
   "metadata": {
    "pycharm": {
     "is_executing": false,
     "name": "#%%\n"
    }
   },
   "outputs": [],
   "source": [
    "import mlflow"
   ]
  },
  {
   "cell_type": "code",
   "execution_count": 2,
   "metadata": {
    "pycharm": {
     "is_executing": false,
     "name": "#%%\n"
    }
   },
   "outputs": [],
   "source": [
    "mlflow.set_tracking_uri(\"http://localhost:5000\")\n",
    "mlflow.set_experiment('test_1')"
   ]
  },
  {
   "cell_type": "code",
   "execution_count": 3,
   "metadata": {
    "pycharm": {
     "is_executing": false,
     "name": "#%%\n"
    }
   },
   "outputs": [],
   "source": [
    "run =  mlflow.start_run()\n",
    "# with mlflow.start_run() as run: -> another alternative"
   ]
  },
  {
   "cell_type": "code",
   "execution_count": 4,
   "metadata": {
    "pycharm": {
     "is_executing": false,
     "name": "#%%\n"
    }
   },
   "outputs": [],
   "source": [
    "mlflow.log_param('param1', 1)\n",
    "mlflow.log_metric('metric1', 2)"
   ]
  },
  {
   "cell_type": "code",
   "execution_count": 5,
   "metadata": {
    "pycharm": {
     "is_executing": false,
     "name": "#%%\n"
    }
   },
   "outputs": [],
   "source": [
    "mlflow.log_param('param1', 1)\n",
    "mlflow.log_metric('metric1', 2)"
   ]
  },
  {
   "cell_type": "code",
   "execution_count": 6,
   "metadata": {
    "pycharm": {
     "is_executing": false,
     "name": "#%%\n"
    }
   },
   "outputs": [],
   "source": [
    "mlflow.end_run()"
   ]
  },
  {
   "cell_type": "markdown",
   "metadata": {
    "pycharm": {
     "name": "#%%\n"
    }
   },
   "source": [
    "### Breast cancer: Scikit-learn"
   ]
  },
  {
   "cell_type": "code",
   "execution_count": 7,
   "metadata": {},
   "outputs": [],
   "source": [
    "mlflow.set_experiment('breast_cancer')"
   ]
  },
  {
   "cell_type": "code",
   "execution_count": 8,
   "metadata": {},
   "outputs": [],
   "source": [
    "import numpy as np\n",
    "import pandas\n",
    "from sklearn.datasets import load_breast_cancer\n",
    "from sklearn.model_selection import train_test_split\n",
    "import warnings\n",
    "warnings.filterwarnings('ignore')"
   ]
  },
  {
   "cell_type": "code",
   "execution_count": 9,
   "metadata": {},
   "outputs": [
    {
     "data": {
      "text/plain": [
       "dict_keys(['data', 'target', 'target_names', 'DESCR', 'feature_names', 'filename'])"
      ]
     },
     "execution_count": 9,
     "metadata": {},
     "output_type": "execute_result"
    }
   ],
   "source": [
    "cancer = load_breast_cancer()\n",
    "cancer.keys()"
   ]
  },
  {
   "cell_type": "code",
   "execution_count": 10,
   "metadata": {},
   "outputs": [
    {
     "name": "stdout",
     "output_type": "stream",
     "text": [
      "X: (569, 30), y: (569,)\n"
     ]
    }
   ],
   "source": [
    "X = np.array(cancer.data)\n",
    "y = np.array(cancer.target)\n",
    "print(f'X: {X.shape}, y: {y.shape}')"
   ]
  },
  {
   "cell_type": "code",
   "execution_count": 11,
   "metadata": {},
   "outputs": [],
   "source": [
    "x_train, x_test, y_train, y_test = train_test_split(X, y, train_size=426, test_size=143, random_state=0)"
   ]
  },
  {
   "cell_type": "code",
   "execution_count": 12,
   "metadata": {},
   "outputs": [],
   "source": [
    "#Feature Scaling\n",
    "from sklearn.preprocessing import StandardScaler\n",
    "sc = StandardScaler()\n",
    "x_train = sc.fit_transform(x_train)\n",
    "x_test = sc.transform(x_test)"
   ]
  },
  {
   "cell_type": "code",
   "execution_count": 17,
   "metadata": {},
   "outputs": [],
   "source": [
    "# Model 1: Logistic Regression\n",
    "def breast_cancer_lr(solver=\"lbfgs\", C=1.0):\n",
    "    from sklearn.linear_model import LogisticRegression\n",
    "    import mlflow.sklearn\n",
    "    with mlflow.start_run() as run:\n",
    "        lr = LogisticRegression(solver = solver, C = C)\n",
    "        mlflow.log_param(\"solver\", solver)\n",
    "        mlflow.log_param(\"C\", C)\n",
    "        mlflow.set_tag(\"model type\", \"sklearn - LogisticRegression\")\n",
    "        lr.fit(x_train, y_train)\n",
    "        accuracy = lr.score(x_test, y_test)\n",
    "        print(\"Accuracy: %s\" % accuracy)\n",
    "        mlflow.log_metric(\"accuracy\", accuracy)\n",
    "        mlflow.sklearn.log_model(lr, \"model\")\n",
    "        print(\"Model saved in run %s\" % mlflow.active_run().info.run_uuid)"
   ]
  },
  {
   "cell_type": "code",
   "execution_count": 18,
   "metadata": {},
   "outputs": [
    {
     "name": "stdout",
     "output_type": "stream",
     "text": [
      "Accuracy: 0.958041958041958\n",
      "Model saved in run b191ff233bb842468dbf1f46fcac5de7\n",
      "Accuracy: 0.958041958041958\n",
      "Model saved in run c67d75d18f9640f7a673fa1a5f2ab4a5\n",
      "Accuracy: 0.972027972027972\n",
      "Model saved in run ef593013b297488aa90b547cd400b617\n"
     ]
    }
   ],
   "source": [
    "breast_cancer_lr()\n",
    "breast_cancer_lr(solver=\"liblinear\")\n",
    "breast_cancer_lr(solver=\"liblinear\", C=0.5)"
   ]
  },
  {
   "cell_type": "code",
   "execution_count": 19,
   "metadata": {},
   "outputs": [],
   "source": [
    "# Model 2: Random Forest\n",
    "def breast_cancer_rf(n_estimators=100, max_depth=2, criterion=\"gini\"):\n",
    "    from sklearn.ensemble import RandomForestClassifier\n",
    "    import mlflow.sklearn\n",
    "    with mlflow.start_run() as run:\n",
    "        clf = RandomForestClassifier(n_estimators=n_estimators, max_depth=max_depth, criterion=criterion)\n",
    "        mlflow.log_param(\"n_estimators\", n_estimators)\n",
    "        mlflow.log_param(\"max_depth\", max_depth)\n",
    "        mlflow.log_param(\"criterion\", criterion)\n",
    "        mlflow.set_tag(\"model type\", \"sklearn - RandomForest\")\n",
    "        clf.fit(x_train, y_train)\n",
    "        accuracy = clf.score(x_test, y_test)\n",
    "        print(\"Accuracy: %s\" % accuracy)\n",
    "        mlflow.log_metric(\"accuracy\", accuracy)\n",
    "        mlflow.sklearn.log_model(clf, \"model\")\n",
    "        print(\"Model saved in run %s\" % mlflow.active_run().info.run_uuid)"
   ]
  },
  {
   "cell_type": "code",
   "execution_count": 20,
   "metadata": {},
   "outputs": [
    {
     "name": "stdout",
     "output_type": "stream",
     "text": [
      "Accuracy: 0.965034965034965\n",
      "Model saved in run b8fe5a2fdcc94cb8986c65413706ebfe\n",
      "Accuracy: 0.965034965034965\n",
      "Model saved in run 2d1e13a4e7af4a8ca79e97e6d7459434\n",
      "Accuracy: 0.958041958041958\n",
      "Model saved in run 44a805bc3816468291d086844cb4c428\n"
     ]
    }
   ],
   "source": [
    "breast_cancer_rf()\n",
    "breast_cancer_rf(max_depth=5)\n",
    "breast_cancer_rf(n_estimators=500, criterion=\"entropy\")"
   ]
  },
  {
   "cell_type": "code",
   "execution_count": 53,
   "metadata": {},
   "outputs": [],
   "source": [
    "# Model 3: Keras\n",
    "from keras.callbacks import Callback\n",
    "class LossHistory(Callback):\n",
    "    def on_train_begin(self, logs={}):\n",
    "        self.losses = []\n",
    "\n",
    "    def on_epoch_end(self, epoch, logs={}):\n",
    "        loss = logs.get('loss')\n",
    "        acc = logs.get('accuracy')\n",
    "        mlflow.log_metric(\"loss\", loss, step=epoch)\n",
    "        mlflow.log_metric(\"val_accuracy\", acc, step=epoch)\n",
    "        precision, recall, accuracy = validate_keras(self.model, x_test, y_test)        \n",
    "        mlflow.log_metric(\"precision\", precision, step=epoch)\n",
    "        mlflow.log_metric(\"recall\", recall, step=epoch)\n",
    "        mlflow.log_metric(\"accuracy\", accuracy, step=epoch)\n",
    "        self.losses.append(loss)\n",
    "        \n",
    "        \n",
    "def validate_keras(model, x_test, y_test):    \n",
    "    y_pred = model.predict(x_test)\n",
    "    y_pred = (y_pred > 0.5)\n",
    "    from sklearn.metrics import confusion_matrix\n",
    "    tn, fp, fn, tp = confusion_matrix(y_test, y_pred).ravel()\n",
    "    precision = tp / (tp + fp)\n",
    "    recall = tp / (tp + fn)\n",
    "    accuracy = (tp + tn) / (tp + fp + tn + fn)\n",
    "    \n",
    "    return precision, recall, accuracy\n",
    "    \n",
    "\n",
    "def breast_cancer_keras(optimizer='adam',dropout=0.00, nb_epoch=20):\n",
    "    import mlflow.keras\n",
    "    import keras\n",
    "    from keras.models import Sequential\n",
    "    from keras.layers import Dense, Dropout\n",
    "    with mlflow.start_run() as run:\n",
    "        mlflow.set_tag(\"model type\", \"keras - MLP\")\n",
    "        model = Sequential()\n",
    "        # Adding the input layer and the first hidden layer\n",
    "        model.add(Dense(output_dim=16, init='uniform', activation='relu', input_dim=30))\n",
    "        # Adding dropout to prevent overfitting\n",
    "        model.add(Dropout(p=dropout))\n",
    "        # Adding the second hidden layer\n",
    "        model.add(Dense(output_dim=16, init='uniform', activation='relu'))\n",
    "        # Adding dropout to prevent overfitting\n",
    "        model.add(Dropout(p=dropout))\n",
    "        # Adding the output layer\n",
    "        model.add(Dense(output_dim=1, init='uniform', activation='sigmoid'))\n",
    "        # Compiling the ANN\n",
    "        model.compile(optimizer='adam', loss='binary_crossentropy', metrics=['accuracy'])\n",
    "        history = LossHistory()\n",
    "        model.fit(x_train, y_train, batch_size=100, nb_epoch=nb_epoch, callbacks=[history])\n",
    "        precision, recall, accuracy = validate_keras(model, x_test, y_test)\n",
    "        mlflow.log_param(\"optimizer\", optimizer)\n",
    "        mlflow.log_param(\"dropout\", dropout)\n",
    "        mlflow.keras.log_model(model, \"model\")"
   ]
  },
  {
   "cell_type": "code",
   "execution_count": 50,
   "metadata": {},
   "outputs": [
    {
     "name": "stdout",
     "output_type": "stream",
     "text": [
      "Epoch 1/20\n",
      "426/426 [==============================] - 0s 796us/step - loss: 0.6928 - accuracy: 0.6268\n",
      "Epoch 2/20\n",
      "426/426 [==============================] - 0s 68us/step - loss: 0.6912 - accuracy: 0.6268\n",
      "Epoch 3/20\n",
      "426/426 [==============================] - 0s 68us/step - loss: 0.6887 - accuracy: 0.6268\n",
      "Epoch 4/20\n",
      "426/426 [==============================] - 0s 54us/step - loss: 0.6848 - accuracy: 0.6268\n",
      "Epoch 5/20\n",
      "426/426 [==============================] - 0s 68us/step - loss: 0.6781 - accuracy: 0.6315\n",
      "Epoch 6/20\n",
      "426/426 [==============================] - 0s 44us/step - loss: 0.6687 - accuracy: 0.6408\n",
      "Epoch 7/20\n",
      "426/426 [==============================] - 0s 64us/step - loss: 0.6550 - accuracy: 0.6690\n",
      "Epoch 8/20\n",
      "426/426 [==============================] - 0s 52us/step - loss: 0.6366 - accuracy: 0.7277\n",
      "Epoch 9/20\n",
      "426/426 [==============================] - 0s 77us/step - loss: 0.6104 - accuracy: 0.7911\n",
      "Epoch 10/20\n",
      "426/426 [==============================] - 0s 51us/step - loss: 0.5807 - accuracy: 0.8685\n",
      "Epoch 11/20\n",
      "426/426 [==============================] - 0s 67us/step - loss: 0.5434 - accuracy: 0.9061\n",
      "Epoch 12/20\n",
      "426/426 [==============================] - 0s 73us/step - loss: 0.5020 - accuracy: 0.9178\n",
      "Epoch 13/20\n",
      "426/426 [==============================] - 0s 64us/step - loss: 0.4606 - accuracy: 0.9272\n",
      "Epoch 14/20\n",
      "426/426 [==============================] - 0s 71us/step - loss: 0.4209 - accuracy: 0.9437\n",
      "Epoch 15/20\n",
      "426/426 [==============================] - 0s 73us/step - loss: 0.3845 - accuracy: 0.9437\n",
      "Epoch 16/20\n",
      "426/426 [==============================] - 0s 78us/step - loss: 0.3451 - accuracy: 0.9460\n",
      "Epoch 17/20\n",
      "426/426 [==============================] - 0s 80us/step - loss: 0.3231 - accuracy: 0.9460\n",
      "Epoch 18/20\n",
      "426/426 [==============================] - 0s 76us/step - loss: 0.2920 - accuracy: 0.9531\n",
      "Epoch 19/20\n",
      "426/426 [==============================] - 0s 73us/step - loss: 0.2713 - accuracy: 0.9554\n",
      "Epoch 20/20\n",
      "426/426 [==============================] - 0s 75us/step - loss: 0.2493 - accuracy: 0.9601\n"
     ]
    }
   ],
   "source": [
    "breast_cancer_keras()"
   ]
  },
  {
   "cell_type": "code",
   "execution_count": 54,
   "metadata": {},
   "outputs": [
    {
     "name": "stdout",
     "output_type": "stream",
     "text": [
      "Epoch 1/100\n",
      "426/426 [==============================] - 0s 526us/step - loss: 0.6927 - accuracy: 0.6127\n",
      "Epoch 2/100\n",
      "426/426 [==============================] - 0s 61us/step - loss: 0.6909 - accuracy: 0.6690\n",
      "Epoch 3/100\n",
      "426/426 [==============================] - 0s 62us/step - loss: 0.6884 - accuracy: 0.7394\n",
      "Epoch 4/100\n",
      "426/426 [==============================] - 0s 31us/step - loss: 0.6845 - accuracy: 0.8380\n",
      "Epoch 5/100\n",
      "426/426 [==============================] - 0s 31us/step - loss: 0.6787 - accuracy: 0.9038\n",
      "Epoch 6/100\n",
      "426/426 [==============================] - 0s 32us/step - loss: 0.6701 - accuracy: 0.9249\n",
      "Epoch 7/100\n",
      "426/426 [==============================] - 0s 26us/step - loss: 0.6582 - accuracy: 0.9413\n",
      "Epoch 8/100\n",
      "426/426 [==============================] - 0s 34us/step - loss: 0.6416 - accuracy: 0.9413\n",
      "Epoch 9/100\n",
      "426/426 [==============================] - 0s 33us/step - loss: 0.6201 - accuracy: 0.9484\n",
      "Epoch 10/100\n",
      "426/426 [==============================] - 0s 35us/step - loss: 0.5932 - accuracy: 0.9531\n",
      "Epoch 11/100\n",
      "426/426 [==============================] - 0s 27us/step - loss: 0.5611 - accuracy: 0.9531\n",
      "Epoch 12/100\n",
      "426/426 [==============================] - 0s 60us/step - loss: 0.5244 - accuracy: 0.9577\n",
      "Epoch 13/100\n",
      "426/426 [==============================] - 0s 79us/step - loss: 0.4846 - accuracy: 0.9624\n",
      "Epoch 14/100\n",
      "426/426 [==============================] - 0s 75us/step - loss: 0.4434 - accuracy: 0.9624\n",
      "Epoch 15/100\n",
      "426/426 [==============================] - 0s 51us/step - loss: 0.4016 - accuracy: 0.9648\n",
      "Epoch 16/100\n",
      "426/426 [==============================] - 0s 64us/step - loss: 0.3614 - accuracy: 0.9601\n",
      "Epoch 17/100\n",
      "426/426 [==============================] - 0s 81us/step - loss: 0.3240 - accuracy: 0.9624\n",
      "Epoch 18/100\n",
      "426/426 [==============================] - 0s 57us/step - loss: 0.2883 - accuracy: 0.9624\n",
      "Epoch 19/100\n",
      "426/426 [==============================] - 0s 63us/step - loss: 0.2569 - accuracy: 0.9671\n",
      "Epoch 20/100\n",
      "426/426 [==============================] - 0s 34us/step - loss: 0.2287 - accuracy: 0.9718\n",
      "Epoch 21/100\n",
      "426/426 [==============================] - 0s 34us/step - loss: 0.2049 - accuracy: 0.9742\n",
      "Epoch 22/100\n",
      "426/426 [==============================] - 0s 49us/step - loss: 0.1842 - accuracy: 0.9742\n",
      "Epoch 23/100\n",
      "426/426 [==============================] - 0s 32us/step - loss: 0.1670 - accuracy: 0.9742\n",
      "Epoch 24/100\n",
      "426/426 [==============================] - 0s 32us/step - loss: 0.1525 - accuracy: 0.9765\n",
      "Epoch 25/100\n",
      "426/426 [==============================] - 0s 56us/step - loss: 0.1408 - accuracy: 0.9765\n",
      "Epoch 26/100\n",
      "426/426 [==============================] - 0s 37us/step - loss: 0.1306 - accuracy: 0.9765\n",
      "Epoch 27/100\n",
      "426/426 [==============================] - 0s 33us/step - loss: 0.1222 - accuracy: 0.9765\n",
      "Epoch 28/100\n",
      "426/426 [==============================] - 0s 34us/step - loss: 0.1151 - accuracy: 0.9765\n",
      "Epoch 29/100\n",
      "426/426 [==============================] - 0s 30us/step - loss: 0.1097 - accuracy: 0.9765\n",
      "Epoch 30/100\n",
      "426/426 [==============================] - 0s 50us/step - loss: 0.1049 - accuracy: 0.9765\n",
      "Epoch 31/100\n",
      "426/426 [==============================] - 0s 34us/step - loss: 0.1009 - accuracy: 0.9765\n",
      "Epoch 32/100\n",
      "426/426 [==============================] - 0s 32us/step - loss: 0.0975 - accuracy: 0.9789\n",
      "Epoch 33/100\n",
      "426/426 [==============================] - 0s 35us/step - loss: 0.0942 - accuracy: 0.9812\n",
      "Epoch 34/100\n",
      "426/426 [==============================] - 0s 37us/step - loss: 0.0911 - accuracy: 0.9812\n",
      "Epoch 35/100\n",
      "426/426 [==============================] - 0s 41us/step - loss: 0.0884 - accuracy: 0.9812\n",
      "Epoch 36/100\n",
      "426/426 [==============================] - 0s 34us/step - loss: 0.0858 - accuracy: 0.9812\n",
      "Epoch 37/100\n",
      "426/426 [==============================] - 0s 62us/step - loss: 0.0836 - accuracy: 0.9812\n",
      "Epoch 38/100\n",
      "426/426 [==============================] - 0s 39us/step - loss: 0.0816 - accuracy: 0.9812\n",
      "Epoch 39/100\n",
      "426/426 [==============================] - 0s 41us/step - loss: 0.0797 - accuracy: 0.9812\n",
      "Epoch 40/100\n",
      "426/426 [==============================] - 0s 40us/step - loss: 0.0780 - accuracy: 0.9812\n",
      "Epoch 41/100\n",
      "426/426 [==============================] - 0s 29us/step - loss: 0.0762 - accuracy: 0.9812\n",
      "Epoch 42/100\n",
      "426/426 [==============================] - 0s 57us/step - loss: 0.0748 - accuracy: 0.9836\n",
      "Epoch 43/100\n",
      "426/426 [==============================] - 0s 35us/step - loss: 0.0733 - accuracy: 0.9859\n",
      "Epoch 44/100\n",
      "426/426 [==============================] - 0s 33us/step - loss: 0.0721 - accuracy: 0.9859\n",
      "Epoch 45/100\n",
      "426/426 [==============================] - 0s 31us/step - loss: 0.0708 - accuracy: 0.9859\n",
      "Epoch 46/100\n",
      "426/426 [==============================] - 0s 57us/step - loss: 0.0698 - accuracy: 0.9859\n",
      "Epoch 47/100\n",
      "426/426 [==============================] - 0s 52us/step - loss: 0.0687 - accuracy: 0.9859\n",
      "Epoch 48/100\n",
      "426/426 [==============================] - 0s 65us/step - loss: 0.0676 - accuracy: 0.9859\n",
      "Epoch 49/100\n",
      "426/426 [==============================] - 0s 33us/step - loss: 0.0669 - accuracy: 0.9859\n",
      "Epoch 50/100\n",
      "426/426 [==============================] - 0s 34us/step - loss: 0.0660 - accuracy: 0.9859\n",
      "Epoch 51/100\n",
      "426/426 [==============================] - 0s 34us/step - loss: 0.0651 - accuracy: 0.9859\n",
      "Epoch 52/100\n",
      "426/426 [==============================] - 0s 44us/step - loss: 0.0643 - accuracy: 0.9859\n",
      "Epoch 53/100\n",
      "426/426 [==============================] - 0s 62us/step - loss: 0.0635 - accuracy: 0.9859\n",
      "Epoch 54/100\n",
      "426/426 [==============================] - 0s 62us/step - loss: 0.0628 - accuracy: 0.9859\n",
      "Epoch 55/100\n",
      "426/426 [==============================] - 0s 46us/step - loss: 0.0620 - accuracy: 0.9859\n",
      "Epoch 56/100\n",
      "426/426 [==============================] - 0s 35us/step - loss: 0.0614 - accuracy: 0.9859\n",
      "Epoch 57/100\n",
      "426/426 [==============================] - 0s 58us/step - loss: 0.0607 - accuracy: 0.9859\n",
      "Epoch 58/100\n",
      "426/426 [==============================] - 0s 46us/step - loss: 0.0602 - accuracy: 0.9859\n",
      "Epoch 59/100\n",
      "426/426 [==============================] - 0s 38us/step - loss: 0.0596 - accuracy: 0.9859\n",
      "Epoch 60/100\n",
      "426/426 [==============================] - 0s 26us/step - loss: 0.0590 - accuracy: 0.9859\n",
      "Epoch 61/100\n",
      "426/426 [==============================] - 0s 60us/step - loss: 0.0585 - accuracy: 0.9859\n",
      "Epoch 62/100\n",
      "426/426 [==============================] - 0s 53us/step - loss: 0.0580 - accuracy: 0.9859\n",
      "Epoch 63/100\n",
      "426/426 [==============================] - 0s 66us/step - loss: 0.0574 - accuracy: 0.9883\n",
      "Epoch 64/100\n",
      "426/426 [==============================] - 0s 67us/step - loss: 0.0569 - accuracy: 0.9883\n",
      "Epoch 65/100\n",
      "426/426 [==============================] - 0s 37us/step - loss: 0.0564 - accuracy: 0.9883\n",
      "Epoch 66/100\n",
      "426/426 [==============================] - 0s 37us/step - loss: 0.0558 - accuracy: 0.9883\n",
      "Epoch 67/100\n",
      "426/426 [==============================] - 0s 49us/step - loss: 0.0556 - accuracy: 0.9883\n",
      "Epoch 68/100\n",
      "426/426 [==============================] - 0s 31us/step - loss: 0.0550 - accuracy: 0.9883\n",
      "Epoch 69/100\n",
      "426/426 [==============================] - 0s 63us/step - loss: 0.0546 - accuracy: 0.9883\n",
      "Epoch 70/100\n",
      "426/426 [==============================] - 0s 35us/step - loss: 0.0540 - accuracy: 0.9883\n",
      "Epoch 71/100\n",
      "426/426 [==============================] - 0s 33us/step - loss: 0.0536 - accuracy: 0.9883\n",
      "Epoch 72/100\n",
      "426/426 [==============================] - 0s 45us/step - loss: 0.0532 - accuracy: 0.9883\n",
      "Epoch 73/100\n",
      "426/426 [==============================] - 0s 44us/step - loss: 0.0528 - accuracy: 0.9883\n",
      "Epoch 74/100\n",
      "426/426 [==============================] - 0s 42us/step - loss: 0.0525 - accuracy: 0.9883\n",
      "Epoch 75/100\n",
      "426/426 [==============================] - 0s 37us/step - loss: 0.0521 - accuracy: 0.9883\n",
      "Epoch 76/100\n",
      "426/426 [==============================] - 0s 45us/step - loss: 0.0517 - accuracy: 0.9883\n",
      "Epoch 77/100\n",
      "426/426 [==============================] - 0s 63us/step - loss: 0.0513 - accuracy: 0.9883\n",
      "Epoch 78/100\n",
      "426/426 [==============================] - 0s 60us/step - loss: 0.0510 - accuracy: 0.9883\n",
      "Epoch 79/100\n",
      "426/426 [==============================] - 0s 34us/step - loss: 0.0507 - accuracy: 0.9883\n",
      "Epoch 80/100\n"
     ]
    },
    {
     "name": "stdout",
     "output_type": "stream",
     "text": [
      "426/426 [==============================] - 0s 44us/step - loss: 0.0504 - accuracy: 0.9883\n",
      "Epoch 81/100\n",
      "426/426 [==============================] - 0s 36us/step - loss: 0.0501 - accuracy: 0.9883\n",
      "Epoch 82/100\n",
      "426/426 [==============================] - 0s 42us/step - loss: 0.0498 - accuracy: 0.9883\n",
      "Epoch 83/100\n",
      "426/426 [==============================] - 0s 34us/step - loss: 0.0495 - accuracy: 0.9883\n",
      "Epoch 84/100\n",
      "426/426 [==============================] - 0s 44us/step - loss: 0.0492 - accuracy: 0.9883\n",
      "Epoch 85/100\n",
      "426/426 [==============================] - 0s 38us/step - loss: 0.0489 - accuracy: 0.9883\n",
      "Epoch 86/100\n",
      "426/426 [==============================] - 0s 38us/step - loss: 0.0486 - accuracy: 0.9883\n",
      "Epoch 87/100\n",
      "426/426 [==============================] - 0s 45us/step - loss: 0.0484 - accuracy: 0.9883\n",
      "Epoch 88/100\n",
      "426/426 [==============================] - 0s 38us/step - loss: 0.0481 - accuracy: 0.9883\n",
      "Epoch 89/100\n",
      "426/426 [==============================] - 0s 41us/step - loss: 0.0478 - accuracy: 0.9883\n",
      "Epoch 90/100\n",
      "426/426 [==============================] - 0s 48us/step - loss: 0.0475 - accuracy: 0.9883\n",
      "Epoch 91/100\n",
      "426/426 [==============================] - 0s 37us/step - loss: 0.0473 - accuracy: 0.9883\n",
      "Epoch 92/100\n",
      "426/426 [==============================] - 0s 43us/step - loss: 0.0471 - accuracy: 0.9906\n",
      "Epoch 93/100\n",
      "426/426 [==============================] - 0s 43us/step - loss: 0.0468 - accuracy: 0.9906\n",
      "Epoch 94/100\n",
      "426/426 [==============================] - 0s 36us/step - loss: 0.0466 - accuracy: 0.9906\n",
      "Epoch 95/100\n",
      "426/426 [==============================] - 0s 36us/step - loss: 0.0464 - accuracy: 0.9906\n",
      "Epoch 96/100\n",
      "426/426 [==============================] - 0s 39us/step - loss: 0.0462 - accuracy: 0.9906\n",
      "Epoch 97/100\n",
      "426/426 [==============================] - 0s 44us/step - loss: 0.0460 - accuracy: 0.9906\n",
      "Epoch 98/100\n",
      "426/426 [==============================] - 0s 39us/step - loss: 0.0457 - accuracy: 0.9906\n",
      "Epoch 99/100\n",
      "426/426 [==============================] - 0s 45us/step - loss: 0.0455 - accuracy: 0.9906\n",
      "Epoch 100/100\n",
      "426/426 [==============================] - 0s 37us/step - loss: 0.0452 - accuracy: 0.9906\n"
     ]
    }
   ],
   "source": [
    "breast_cancer_keras(nb_epoch=100)"
   ]
  },
  {
   "cell_type": "code",
   "execution_count": 55,
   "metadata": {},
   "outputs": [
    {
     "name": "stdout",
     "output_type": "stream",
     "text": [
      "Epoch 1/100\n",
      "426/426 [==============================] - 0s 794us/step - loss: 0.6924 - accuracy: 0.7019\n",
      "Epoch 2/100\n",
      "426/426 [==============================] - 0s 72us/step - loss: 0.6903 - accuracy: 0.7840\n",
      "Epoch 3/100\n",
      "426/426 [==============================] - 0s 71us/step - loss: 0.6871 - accuracy: 0.8169\n",
      "Epoch 4/100\n",
      "426/426 [==============================] - 0s 70us/step - loss: 0.6825 - accuracy: 0.8709\n",
      "Epoch 5/100\n",
      "426/426 [==============================] - 0s 44us/step - loss: 0.6751 - accuracy: 0.8991\n",
      "Epoch 6/100\n",
      "426/426 [==============================] - 0s 42us/step - loss: 0.6651 - accuracy: 0.9178\n",
      "Epoch 7/100\n",
      "426/426 [==============================] - 0s 42us/step - loss: 0.6495 - accuracy: 0.9460\n",
      "Epoch 8/100\n",
      "426/426 [==============================] - 0s 41us/step - loss: 0.6318 - accuracy: 0.9460\n",
      "Epoch 9/100\n",
      "426/426 [==============================] - 0s 72us/step - loss: 0.6053 - accuracy: 0.9507\n",
      "Epoch 10/100\n",
      "426/426 [==============================] - 0s 52us/step - loss: 0.5759 - accuracy: 0.9531\n",
      "Epoch 11/100\n",
      "426/426 [==============================] - 0s 38us/step - loss: 0.5407 - accuracy: 0.9554\n",
      "Epoch 12/100\n",
      "426/426 [==============================] - 0s 54us/step - loss: 0.5040 - accuracy: 0.9531\n",
      "Epoch 13/100\n",
      "426/426 [==============================] - 0s 41us/step - loss: 0.4687 - accuracy: 0.9577\n",
      "Epoch 14/100\n",
      "426/426 [==============================] - 0s 33us/step - loss: 0.4273 - accuracy: 0.9624\n",
      "Epoch 15/100\n",
      "426/426 [==============================] - 0s 28us/step - loss: 0.3890 - accuracy: 0.9554\n",
      "Epoch 16/100\n",
      "426/426 [==============================] - 0s 90us/step - loss: 0.3515 - accuracy: 0.9624\n",
      "Epoch 17/100\n",
      "426/426 [==============================] - 0s 52us/step - loss: 0.3199 - accuracy: 0.9601\n",
      "Epoch 18/100\n",
      "426/426 [==============================] - 0s 70us/step - loss: 0.2847 - accuracy: 0.9648\n",
      "Epoch 19/100\n",
      "426/426 [==============================] - 0s 73us/step - loss: 0.2572 - accuracy: 0.9671\n",
      "Epoch 20/100\n",
      "426/426 [==============================] - 0s 107us/step - loss: 0.2439 - accuracy: 0.9695\n",
      "Epoch 21/100\n",
      "426/426 [==============================] - 0s 73us/step - loss: 0.2190 - accuracy: 0.9718\n",
      "Epoch 22/100\n",
      "426/426 [==============================] - 0s 93us/step - loss: 0.1951 - accuracy: 0.9742\n",
      "Epoch 23/100\n",
      "426/426 [==============================] - 0s 71us/step - loss: 0.1844 - accuracy: 0.9765\n",
      "Epoch 24/100\n",
      "426/426 [==============================] - 0s 71us/step - loss: 0.1764 - accuracy: 0.9765\n",
      "Epoch 25/100\n",
      "426/426 [==============================] - 0s 63us/step - loss: 0.1633 - accuracy: 0.9742\n",
      "Epoch 26/100\n",
      "426/426 [==============================] - 0s 99us/step - loss: 0.1537 - accuracy: 0.9742\n",
      "Epoch 27/100\n",
      "426/426 [==============================] - 0s 69us/step - loss: 0.1392 - accuracy: 0.9765\n",
      "Epoch 28/100\n",
      "426/426 [==============================] - 0s 74us/step - loss: 0.1340 - accuracy: 0.9765\n",
      "Epoch 29/100\n",
      "426/426 [==============================] - 0s 58us/step - loss: 0.1311 - accuracy: 0.9765\n",
      "Epoch 30/100\n",
      "426/426 [==============================] - 0s 56us/step - loss: 0.1300 - accuracy: 0.9765\n",
      "Epoch 31/100\n",
      "426/426 [==============================] - 0s 66us/step - loss: 0.1240 - accuracy: 0.9789\n",
      "Epoch 32/100\n",
      "426/426 [==============================] - 0s 59us/step - loss: 0.1163 - accuracy: 0.9765\n",
      "Epoch 33/100\n",
      "426/426 [==============================] - 0s 70us/step - loss: 0.1059 - accuracy: 0.9812\n",
      "Epoch 34/100\n",
      "426/426 [==============================] - 0s 55us/step - loss: 0.1160 - accuracy: 0.9812\n",
      "Epoch 35/100\n",
      "426/426 [==============================] - 0s 39us/step - loss: 0.1095 - accuracy: 0.9765\n",
      "Epoch 36/100\n",
      "426/426 [==============================] - 0s 37us/step - loss: 0.1014 - accuracy: 0.9789\n",
      "Epoch 37/100\n",
      "426/426 [==============================] - 0s 38us/step - loss: 0.0984 - accuracy: 0.9812\n",
      "Epoch 38/100\n",
      "426/426 [==============================] - 0s 63us/step - loss: 0.0908 - accuracy: 0.9789\n",
      "Epoch 39/100\n",
      "426/426 [==============================] - 0s 63us/step - loss: 0.0858 - accuracy: 0.9836\n",
      "Epoch 40/100\n",
      "426/426 [==============================] - 0s 47us/step - loss: 0.0879 - accuracy: 0.9836\n",
      "Epoch 41/100\n",
      "426/426 [==============================] - 0s 54us/step - loss: 0.0972 - accuracy: 0.9812\n",
      "Epoch 42/100\n",
      "426/426 [==============================] - 0s 40us/step - loss: 0.0943 - accuracy: 0.9812\n",
      "Epoch 43/100\n",
      "426/426 [==============================] - 0s 84us/step - loss: 0.0872 - accuracy: 0.9812\n",
      "Epoch 44/100\n",
      "426/426 [==============================] - 0s 70us/step - loss: 0.0827 - accuracy: 0.9812\n",
      "Epoch 45/100\n",
      "426/426 [==============================] - 0s 50us/step - loss: 0.0777 - accuracy: 0.9812\n",
      "Epoch 46/100\n",
      "426/426 [==============================] - 0s 40us/step - loss: 0.0798 - accuracy: 0.9836\n",
      "Epoch 47/100\n",
      "426/426 [==============================] - 0s 48us/step - loss: 0.0788 - accuracy: 0.9859\n",
      "Epoch 48/100\n",
      "426/426 [==============================] - 0s 51us/step - loss: 0.0816 - accuracy: 0.9836\n",
      "Epoch 49/100\n",
      "426/426 [==============================] - 0s 51us/step - loss: 0.0803 - accuracy: 0.9836\n",
      "Epoch 50/100\n",
      "426/426 [==============================] - 0s 50us/step - loss: 0.0842 - accuracy: 0.9812\n",
      "Epoch 51/100\n",
      "426/426 [==============================] - 0s 55us/step - loss: 0.0675 - accuracy: 0.9836\n",
      "Epoch 52/100\n",
      "426/426 [==============================] - 0s 94us/step - loss: 0.0771 - accuracy: 0.9883\n",
      "Epoch 53/100\n",
      "426/426 [==============================] - 0s 67us/step - loss: 0.0776 - accuracy: 0.9836\n",
      "Epoch 54/100\n",
      "426/426 [==============================] - 0s 106us/step - loss: 0.0703 - accuracy: 0.9859\n",
      "Epoch 55/100\n",
      "426/426 [==============================] - 0s 63us/step - loss: 0.0726 - accuracy: 0.9883\n",
      "Epoch 56/100\n",
      "426/426 [==============================] - 0s 58us/step - loss: 0.0720 - accuracy: 0.9859\n",
      "Epoch 57/100\n",
      "426/426 [==============================] - 0s 43us/step - loss: 0.0819 - accuracy: 0.9836\n",
      "Epoch 58/100\n",
      "426/426 [==============================] - 0s 39us/step - loss: 0.0728 - accuracy: 0.9883\n",
      "Epoch 59/100\n",
      "426/426 [==============================] - 0s 40us/step - loss: 0.0691 - accuracy: 0.9883\n",
      "Epoch 60/100\n",
      "426/426 [==============================] - 0s 43us/step - loss: 0.0638 - accuracy: 0.9883\n",
      "Epoch 61/100\n",
      "426/426 [==============================] - 0s 42us/step - loss: 0.0645 - accuracy: 0.9859\n",
      "Epoch 62/100\n",
      "426/426 [==============================] - 0s 94us/step - loss: 0.0817 - accuracy: 0.9883\n",
      "Epoch 63/100\n",
      "426/426 [==============================] - 0s 75us/step - loss: 0.0651 - accuracy: 0.9859\n",
      "Epoch 64/100\n",
      "426/426 [==============================] - 0s 76us/step - loss: 0.0667 - accuracy: 0.9859\n",
      "Epoch 65/100\n",
      "426/426 [==============================] - 0s 79us/step - loss: 0.0741 - accuracy: 0.9836\n",
      "Epoch 66/100\n",
      "426/426 [==============================] - 0s 35us/step - loss: 0.0620 - accuracy: 0.9883\n",
      "Epoch 67/100\n",
      "426/426 [==============================] - 0s 40us/step - loss: 0.0589 - accuracy: 0.9883\n",
      "Epoch 68/100\n",
      "426/426 [==============================] - 0s 69us/step - loss: 0.0638 - accuracy: 0.9883\n",
      "Epoch 69/100\n",
      "426/426 [==============================] - 0s 55us/step - loss: 0.0617 - accuracy: 0.9883\n",
      "Epoch 70/100\n",
      "426/426 [==============================] - 0s 43us/step - loss: 0.0609 - accuracy: 0.9859\n",
      "Epoch 71/100\n",
      "426/426 [==============================] - 0s 54us/step - loss: 0.0705 - accuracy: 0.9883\n",
      "Epoch 72/100\n",
      "426/426 [==============================] - 0s 41us/step - loss: 0.0613 - accuracy: 0.9883\n",
      "Epoch 73/100\n",
      "426/426 [==============================] - 0s 50us/step - loss: 0.0668 - accuracy: 0.9859\n",
      "Epoch 74/100\n",
      "426/426 [==============================] - 0s 39us/step - loss: 0.0613 - accuracy: 0.9883\n",
      "Epoch 75/100\n",
      "426/426 [==============================] - 0s 47us/step - loss: 0.0621 - accuracy: 0.9883\n",
      "Epoch 76/100\n",
      "426/426 [==============================] - 0s 42us/step - loss: 0.0672 - accuracy: 0.9836\n",
      "Epoch 77/100\n",
      "426/426 [==============================] - 0s 41us/step - loss: 0.0610 - accuracy: 0.9883\n",
      "Epoch 78/100\n",
      "426/426 [==============================] - 0s 50us/step - loss: 0.0611 - accuracy: 0.9883\n",
      "Epoch 79/100\n",
      "426/426 [==============================] - 0s 39us/step - loss: 0.0653 - accuracy: 0.9859\n",
      "Epoch 80/100\n"
     ]
    },
    {
     "name": "stdout",
     "output_type": "stream",
     "text": [
      "426/426 [==============================] - 0s 39us/step - loss: 0.0577 - accuracy: 0.9883\n",
      "Epoch 81/100\n",
      "426/426 [==============================] - 0s 66us/step - loss: 0.0651 - accuracy: 0.9883\n",
      "Epoch 82/100\n",
      "426/426 [==============================] - 0s 48us/step - loss: 0.0523 - accuracy: 0.9883\n",
      "Epoch 83/100\n",
      "426/426 [==============================] - 0s 34us/step - loss: 0.0552 - accuracy: 0.9859\n",
      "Epoch 84/100\n",
      "426/426 [==============================] - 0s 48us/step - loss: 0.0574 - accuracy: 0.9883\n",
      "Epoch 85/100\n",
      "426/426 [==============================] - 0s 41us/step - loss: 0.0575 - accuracy: 0.9859\n",
      "Epoch 86/100\n",
      "426/426 [==============================] - 0s 42us/step - loss: 0.0645 - accuracy: 0.9859\n",
      "Epoch 87/100\n",
      "426/426 [==============================] - 0s 50us/step - loss: 0.0536 - accuracy: 0.9883\n",
      "Epoch 88/100\n",
      "426/426 [==============================] - 0s 56us/step - loss: 0.0599 - accuracy: 0.9883\n",
      "Epoch 89/100\n",
      "426/426 [==============================] - 0s 38us/step - loss: 0.0522 - accuracy: 0.9883\n",
      "Epoch 90/100\n",
      "426/426 [==============================] - 0s 41us/step - loss: 0.0611 - accuracy: 0.9883\n",
      "Epoch 91/100\n",
      "426/426 [==============================] - 0s 43us/step - loss: 0.0675 - accuracy: 0.9883\n",
      "Epoch 92/100\n",
      "426/426 [==============================] - 0s 46us/step - loss: 0.0539 - accuracy: 0.9883\n",
      "Epoch 93/100\n",
      "426/426 [==============================] - 0s 44us/step - loss: 0.0492 - accuracy: 0.9883\n",
      "Epoch 94/100\n",
      "426/426 [==============================] - 0s 38us/step - loss: 0.0520 - accuracy: 0.9883\n",
      "Epoch 95/100\n",
      "426/426 [==============================] - 0s 38us/step - loss: 0.0524 - accuracy: 0.9836\n",
      "Epoch 96/100\n",
      "426/426 [==============================] - 0s 49us/step - loss: 0.0586 - accuracy: 0.9859\n",
      "Epoch 97/100\n",
      "426/426 [==============================] - 0s 39us/step - loss: 0.0615 - accuracy: 0.9859\n",
      "Epoch 98/100\n",
      "426/426 [==============================] - 0s 42us/step - loss: 0.0557 - accuracy: 0.9883\n",
      "Epoch 99/100\n",
      "426/426 [==============================] - 0s 38us/step - loss: 0.0484 - accuracy: 0.9883\n",
      "Epoch 100/100\n",
      "426/426 [==============================] - 0s 42us/step - loss: 0.0552 - accuracy: 0.9883\n"
     ]
    }
   ],
   "source": [
    "breast_cancer_keras(dropout=0.25, nb_epoch=100)"
   ]
  },
  {
   "cell_type": "code",
   "execution_count": null,
   "metadata": {},
   "outputs": [],
   "source": []
  }
 ],
 "metadata": {
  "kernelspec": {
   "display_name": "Python 3",
   "language": "python",
   "name": "python3"
  },
  "language_info": {
   "codemirror_mode": {
    "name": "ipython",
    "version": 3
   },
   "file_extension": ".py",
   "mimetype": "text/x-python",
   "name": "python",
   "nbconvert_exporter": "python",
   "pygments_lexer": "ipython3",
   "version": "3.7.5"
  },
  "pycharm": {
   "stem_cell": {
    "cell_type": "raw",
    "metadata": {
     "collapsed": false
    },
    "source": []
   }
  }
 },
 "nbformat": 4,
 "nbformat_minor": 1
}
